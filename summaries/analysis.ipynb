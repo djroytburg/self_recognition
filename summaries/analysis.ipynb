{
 "cells": [
  {
   "cell_type": "code",
   "execution_count": 2,
   "metadata": {},
   "outputs": [],
   "source": [
    "import json\n",
    "import pandas as pd"
   ]
  },
  {
   "cell_type": "code",
   "execution_count": 5,
   "metadata": {},
   "outputs": [],
   "source": [
    "data = json.load(open(\"/local/scratch/droytbu/self_recognition/individual_setting/score_results/cnn/llama3.1-8b-instruct_comparison_results_300.json\",\"r\"))"
   ]
  },
  {
   "cell_type": "code",
   "execution_count": 18,
   "metadata": {},
   "outputs": [
    {
     "name": "stdout",
     "output_type": "stream",
     "text": [
      "918.3673469387755\n"
     ]
    }
   ],
   "source": [
    "meets_criteria = 0\n",
    "t = 0.7\n",
    "total = 0\n",
    "for result in data:\n",
    "    if result['model'] == 'gpt35':\n",
    "        total += 1\n",
    "        if result['backward_comparison'] == '2' and result['forward_comparison'] == '1':\n",
    "            if result['forward_comparison_probability'] > t and result['backward_comparison_probability'] > t:\n",
    "                meets_criteria += 1\n",
    "\n",
    "print(300 / (meets_criteria / total))"
   ]
  }
 ],
 "metadata": {
  "kernelspec": {
   "display_name": ".hackenv",
   "language": "python",
   "name": "python3"
  },
  "language_info": {
   "codemirror_mode": {
    "name": "ipython",
    "version": 3
   },
   "file_extension": ".py",
   "mimetype": "text/x-python",
   "name": "python",
   "nbconvert_exporter": "python",
   "pygments_lexer": "ipython3",
   "version": "3.10.4"
  }
 },
 "nbformat": 4,
 "nbformat_minor": 2
}
