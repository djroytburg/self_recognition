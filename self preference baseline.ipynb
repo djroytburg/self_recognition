{
 "cells": [
  {
   "cell_type": "code",
   "execution_count": 7,
   "metadata": {},
   "outputs": [],
   "source": [
    "import json\n",
    "results_set = json.load(open(\"individual_setting/score_results/xsum/llama3.1-8b-instruct_comparison_results.json\",\"r\"))\n",
    "\n",
    "\n"
   ]
  },
  {
   "cell_type": "code",
   "execution_count": 18,
   "metadata": {},
   "outputs": [
    {
     "ename": "SyntaxError",
     "evalue": "incomplete input (564088264.py, line 17)",
     "output_type": "error",
     "traceback": [
      "\u001b[0;36m  Cell \u001b[0;32mIn[18], line 17\u001b[0;36m\u001b[0m\n\u001b[0;31m    \u001b[0m\n\u001b[0m    ^\u001b[0m\n\u001b[0;31mSyntaxError\u001b[0m\u001b[0;31m:\u001b[0m incomplete input\n"
     ]
    }
   ],
   "source": [
    "correct_prefs_weighted = {}\n",
    "correct_prefs_unweighted = {}\n",
    "incorrect_prefs_weighted = {}\n",
    "incorrect_prefs_unweighted = {}\n",
    "\n",
    "num_prefs_w_amb = {}\n",
    "num_prefs = {}\n",
    "for results in results_set:\n",
    "    num_prefs_w_amb[results['model']] = num_prefs_w_amb.get(results['model'], 0) + 1\n",
    "    if results['forward_comparison'] != results['backward_comparison']:\n",
    "        num_prefs[results['model']] = num_prefs.get(results['model'], 0) + 1\n",
    "        if results['forward_comparison'] == '1':\n",
    "            assert results['backward_comparison'] == '2'\n",
    "            correct_prefs_unweighted[results['model']] = correct_prefs_unweighted.get(results['model'], 0) + 1\n",
    "            correct_prefs_weighted[results['model']] = correct_prefs_weighted.get(results['model'],0) + 0.5 * (results['forward_comparison_probability'] + results['backward_comparison_probability'])\n",
    "        else:\n",
    "            assert results['backward_comparison'] == '1'\n",
    "            incorrect_prefs_unweighted[results['model']] = incorrect_prefs_unweighted.get(results['model'], 0) + 1\n",
    "            incorrect_prefs_weighted[results['model']] = incorrect_prefs_weighted.get(results['model'],0) + 0.5 * (results['forward_comparison_probability'] + results['backward_comparison_probability'])\n",
    "\n"
   ]
  },
  {
   "cell_type": "code",
   "execution_count": 15,
   "metadata": {},
   "outputs": [
    {
     "data": {
      "text/plain": [
       "0.378"
      ]
     },
     "execution_count": 15,
     "metadata": {},
     "output_type": "execute_result"
    }
   ],
   "source": [
    "correct_prefs_weighted['gpt35'] / num_prefs_w_amb['gpt35']\n",
    "correct_prefs_unweighted['gpt35'] / num_prefs_w_amb['gpt35']"
   ]
  },
  {
   "cell_type": "code",
   "execution_count": 17,
   "metadata": {},
   "outputs": [
    {
     "data": {
      "text/plain": [
       "336"
      ]
     },
     "execution_count": 17,
     "metadata": {},
     "output_type": "execute_result"
    }
   ],
   "source": [
    "num_prefs_w_amb['gpt35'] - num_prefs['gpt35']"
   ]
  }
 ],
 "metadata": {
  "kernelspec": {
   "display_name": ".hackenv",
   "language": "python",
   "name": "python3"
  },
  "language_info": {
   "codemirror_mode": {
    "name": "ipython",
    "version": 3
   },
   "file_extension": ".py",
   "mimetype": "text/x-python",
   "name": "python",
   "nbconvert_exporter": "python",
   "pygments_lexer": "ipython3",
   "version": "3.10.4"
  }
 },
 "nbformat": 4,
 "nbformat_minor": 2
}
